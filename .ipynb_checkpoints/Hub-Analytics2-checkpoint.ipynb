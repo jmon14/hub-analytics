{
 "cells": [
  {
   "cell_type": "code",
   "execution_count": 13,
   "id": "a231279a-dfce-4d41-9fc7-0f3fdb8fdd19",
   "metadata": {},
   "outputs": [],
   "source": [
    "import pandas as pd"
   ]
  },
  {
   "cell_type": "markdown",
   "id": "a020f1c4-aab3-43e4-8feb-f28306df16e5",
   "metadata": {
    "tags": []
   },
   "source": [
    "Read excel file, keep columns applicationId, state and numberOfQuotes only."
   ]
  },
  {
   "cell_type": "code",
   "execution_count": 19,
   "id": "dd06cb9a-e5c4-4684-a6cc-10738cc7b7e5",
   "metadata": {},
   "outputs": [],
   "source": [
    "df = pd.read_excel('Analytics2.xlsx')[['applicationId','state','numberOfQuotes', 'insuranceLine']]"
   ]
  },
  {
   "cell_type": "markdown",
   "id": "4746cfd9-9d4b-42c8-87d8-4cf5cddf6156",
   "metadata": {
    "tags": []
   },
   "source": [
    "Filter by"
   ]
  },
  {
   "cell_type": "code",
   "execution_count": 20,
   "id": "ec921bb4-f247-4da8-9520-72f234d16e0b",
   "metadata": {},
   "outputs": [],
   "source": [
    "df = df.query(\"insuranceLine == 'PERSONAL_AUTO'\")\n",
    "df = df.query(\"numberOfQuotes != 0\")"
   ]
  },
  {
   "cell_type": "markdown",
   "id": "f3eb923c-4b3c-4a2f-8926-51ef4b3f2807",
   "metadata": {},
   "source": [
    "Drop applicationId duplicates, keep the value with the max numberOfQuotes, drop the applicationId column and transform to uppercase the state abbreviation."
   ]
  },
  {
   "cell_type": "code",
   "execution_count": 21,
   "id": "bbd33fea-71e9-4faa-b6f2-e21fec16ee32",
   "metadata": {},
   "outputs": [],
   "source": [
    "dfUniqueAppId = df.sort_values('numberOfQuotes').drop_duplicates('applicationId', keep='last')\n",
    "dfSummary = df[['state','numberOfQuotes']]\n",
    "df['state'] = df['state'].str.upper()"
   ]
  },
  {
   "cell_type": "markdown",
   "id": "c29a98be-4868-482b-9268-30f6ad786c79",
   "metadata": {},
   "source": [
    "Create the stats columns and add it to the dataframe. Use zero as default value"
   ]
  },
  {
   "cell_type": "code",
   "execution_count": 22,
   "id": "1b454984-91c1-43f4-b9f3-2270c91742db",
   "metadata": {},
   "outputs": [],
   "source": [
    "dfMean = df.groupby(['state'])['numberOfQuotes'].mean().rename('mean_quotes')\n",
    "dfSum = df.groupby(['state'])['numberOfQuotes'].sum().rename('sum_quotes')\n",
    "dfMin = df.groupby(['state'])['numberOfQuotes'].min().rename('min_quotes')\n",
    "dfMax = df.groupby(['state'])['numberOfQuotes'].max().rename('max_quotes')\n",
    "dfCount = df.groupby(['state'])['numberOfQuotes'].count().rename('count_quotes')\n",
    "\n",
    "dfStats = dfSum.to_frame().join(dfMean).join(dfMin).join(dfMax).join(dfCount)\n",
    "dfStates = pd.read_csv('States catalog.csv', converters={'State No': str}).set_index('Code')\n",
    "dfFull = dfStates.join(dfStats).fillna(0)"
   ]
  },
  {
   "cell_type": "markdown",
   "id": "b9be5139-2628-478a-ba4b-d0d091c55d7e",
   "metadata": {},
   "source": [
    "Export to csv"
   ]
  },
  {
   "cell_type": "code",
   "execution_count": 23,
   "id": "9d8c1f99-c89a-4b21-b69f-a7fb592fa062",
   "metadata": {},
   "outputs": [],
   "source": [
    "dfFull.to_csv('hub_data.csv')"
   ]
  }
 ],
 "metadata": {
  "kernelspec": {
   "display_name": "Python 3 (ipykernel)",
   "language": "python",
   "name": "python3"
  },
  "language_info": {
   "codemirror_mode": {
    "name": "ipython",
    "version": 3
   },
   "file_extension": ".py",
   "mimetype": "text/x-python",
   "name": "python",
   "nbconvert_exporter": "python",
   "pygments_lexer": "ipython3",
   "version": "3.9.12"
  }
 },
 "nbformat": 4,
 "nbformat_minor": 5
}
